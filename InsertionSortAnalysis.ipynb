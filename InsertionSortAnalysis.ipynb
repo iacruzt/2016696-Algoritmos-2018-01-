{
 "cells": [
  {
   "cell_type": "markdown",
   "metadata": {},
   "source": [
    "# Analysis of the computational complexity of the insertion sort algorithm.\n",
    "## Reader: \n",
    "## This notebook is split into several parts. First of all, let us construct the processes requiered to assess the computational complexity of the insertion sort algorithm."
   ]
  },
  {
   "cell_type": "markdown",
   "metadata": {},
   "source": [
    "**Imports.**"
   ]
  },
  {
   "cell_type": "code",
   "execution_count": 1,
   "metadata": {},
   "outputs": [],
   "source": [
    "import itertools\n",
    "import random\n",
    "import matplotlib.pyplot as plotter\n",
    "import numpy as np"
   ]
  },
  {
   "cell_type": "markdown",
   "metadata": {},
   "source": [
    "**A method to produce all the permutations of the first n nonnegative integers.**\n",
    "*The insertion sort algorithm will be ran over each one of these permutations to do the assessment.*"
   ]
  },
  {
   "cell_type": "code",
   "execution_count": 1,
   "metadata": {},
   "outputs": [],
   "source": [
    "def generateListOfAllPermutations(permSize):\n",
    "    listedElements = list(range(permSize))\n",
    "    return list(itertools.permutations(listedElements))"
   ]
  },
  {
   "cell_type": "markdown",
   "metadata": {},
   "source": [
    "**A method to order a given permutation by the insertion sort algorithm.**\n",
    "*This method won't be called later, but I found it convenient to isolate it and show it to you here, since the same implementation will be used later in this notebook, just a bit differently...*"
   ]
  },
  {
   "cell_type": "markdown",
   "metadata": {},
   "source": [
    "`def insertionSort(permutation):\n",
    "    for i in range(1, len(permutation)):\n",
    "        toInsert = permutation[i]\n",
    "        for j in range(i - 1, -1, -1):\n",
    "            if permutation[j] > toInsert:\n",
    "                permutation[j + 1] = permutation[j]\n",
    "            else:\n",
    "                permutation[j + 1] = toInsert\n",
    "                break\n",
    "        else:\n",
    "            permutation[0] = toInsert\n",
    "    return permutation`"
   ]
  },
  {
   "cell_type": "markdown",
   "metadata": {},
   "source": [
    "**A method to assess the number of instructions, swaps and comparisons required to order a given permutation by means of the insertion sort algorithm.**\n",
    "\n",
    "*Appreciate two things:*\n",
    "- *In the code, all the comments show where a certain number of instructions are executed, therefore adding to the instructions count.*\n",
    "- *The implementation of the insertion sort algorithm is the same as the one I just presented.*"
   ]
  },
  {
   "cell_type": "code",
   "execution_count": 3,
   "metadata": {},
   "outputs": [],
   "source": [
    "def countInsertionSort(permutation):\n",
    "    instructionsCount = 0\n",
    "    comparisonsCount = 0\n",
    "    swapsCount = 0\n",
    "    for i in range(1, len(permutation)):  # +1\n",
    "        toInsert = permutation[i]  # +2\n",
    "        instructionsCount = instructionsCount + 3\n",
    "        for j in range(i - 1, -1, -1):  # +1\n",
    "            comparisonsCount = comparisonsCount + 1\n",
    "            instructionsCount = instructionsCount + 3\n",
    "            if permutation[j] > toInsert:  # +2\n",
    "                permutation[j + 1] = permutation[j]  # +2\n",
    "                instructionsCount = instructionsCount + 2\n",
    "                swapsCount = swapsCount + 1\n",
    "            else:\n",
    "                permutation[j + 1] = toInsert  # +1\n",
    "                instructionsCount = instructionsCount + 1\n",
    "                break\n",
    "        else:\n",
    "            permutation[0] = toInsert  # +1\n",
    "            instructionsCount = instructionsCount + 1\n",
    "    return (instructionsCount, comparisonsCount, swapsCount)"
   ]
  },
  {
   "cell_type": "markdown",
   "metadata": {},
   "source": [
    "**This method right below will allow me to obtain some performance data about the insertion sort implementation I showed you before, when its ran over a set of permutations.**\n",
    "\n",
    "*Consider this:*\n",
    "- *The data is the number of instructions, swaps and comparisons per permutation, and the average of each of those three indices for the set of permutations.*\n",
    "- *The explanation of how the set of permutations is made up lies right below this comment, in the method's docstring.*"
   ]
  },
  {
   "cell_type": "code",
   "execution_count": 4,
   "metadata": {},
   "outputs": [],
   "source": [
    "def factorial(n):\n",
    "    if n < 1:\n",
    "        return 1\n",
    "    else:\n",
    "        return factorial(n-1)*n\n",
    "\n",
    "def studyInsertionSort(n, allPermutations=True):\n",
    "    \"\"\"\n",
    "    If allPermutations -> n is to be interpreted as a permutation's (which will be given to the algorithm in each\n",
    "    possible order for it to sort the permutation)size.\n",
    "    Else, the algorithm will be studied using n! random permutations (each randomly generated) of n elements, each \n",
    "    raging between 0 and n-1.\n",
    "    \"\"\"\n",
    "    instructionsCount = []\n",
    "    comparisonsCount = []\n",
    "    swapsCount = []\n",
    "    if allPermutations:\n",
    "        results = [countInsertionSort(list(x)) for x in generateListOfAllPermutations(n)]\n",
    "    else:\n",
    "        results = [countInsertionSort(random.sample(list(range(n*n)), n)) for x in range(factorial(n))]\n",
    "    for x, y, z in results:\n",
    "        instructionsCount.append(x)\n",
    "        comparisonsCount.append(y)\n",
    "        swapsCount.append(z)\n",
    "    avgInstructionsCount = sum(instructionsCount) / len(instructionsCount)\n",
    "    avgComparisonsCount = sum(comparisonsCount) / len(comparisonsCount)\n",
    "    avgSwapsCount = sum(swapsCount) / len(swapsCount)\n",
    "\n",
    "    return (avgInstructionsCount, instructionsCount, avgComparisonsCount,\n",
    "            comparisonsCount, avgSwapsCount, swapsCount)"
   ]
  },
  {
   "cell_type": "markdown",
   "metadata": {},
   "source": [
    "## Now, I'll present to you the performance data of the algorithm's implementation previously shown.\n",
    "**Assessment with the set of all permutations of 0,1,2,3,4,5,6,7,8,9**"
   ]
  },
  {
   "cell_type": "code",
   "execution_count": 7,
   "metadata": {},
   "outputs": [
    {
     "name": "stdout",
     "output_type": "stream",
     "text": [
      "AVG instructions count 169.71309523809524 | AVG comparisons count 29.571031746031746 | AVG Instructions count 22.5\n"
     ]
    }
   ],
   "source": [
    "results = studyInsertionSort(10)\n",
    "\n",
    "\n",
    "plotter.hist( results[1] )\n",
    "plotter.xlabel(\"# of instructions.\")\n",
    "plotter.ylabel(\"# of permutations\")\n",
    "plotter.title(\"Distribution of the number of instructions\\n along a sample of permutations\")\n",
    "plotter.show()\n",
    "\n",
    "plotter.hist( results[3] )\n",
    "plotter.xlabel(\"# of comparisons.\")\n",
    "plotter.ylabel(\"# of permutations\")\n",
    "plotter.title(\"Distribution of the number of comparisons\\n along a sample of permutations\")\n",
    "plotter.show()\n",
    "\n",
    "plotter.hist( results[5] )\n",
    "plotter.xlabel(\"# of swaps.\")\n",
    "plotter.ylabel(\"# of permutations\")\n",
    "plotter.title(\"Distribution of the number of swaps along \\n a sample of permutations\")\n",
    "plotter.show()\n",
    "\n",
    "print(\"AVG instructions count {0} | AVG comparisons count {1} | AVG Instructions count {2}\".format \n",
    "      (results[0], results[2], results[4]))"
   ]
  },
  {
   "cell_type": "markdown",
   "metadata": {},
   "source": [
    "**Assessment with a set of 10! permutations, each containing 10 numbers, each ranging between 0 and 99 chosen randomly.**"
   ]
  },
  {
   "cell_type": "code",
   "execution_count": 9,
   "metadata": {},
   "outputs": [
    {
     "name": "stdout",
     "output_type": "stream",
     "text": [
      "AVG instructions count 169.72500413359788 | AVG comparisons count 29.572955522486772 | AVG Instructions count 22.503068783068784\n"
     ]
    }
   ],
   "source": [
    "results = studyInsertionSort(10, False)\n",
    "\n",
    "distribution = list(np.bincount(results[1]))\n",
    "plotter.bar([distribution.index(x) for x in distribution],distribution,width=15)\n",
    "plotter.xlabel(\"# of instructions.\")\n",
    "plotter.ylabel(\"# of permutations\")\n",
    "plotter.title(\"Distribution of the number of instructions\\n along a sample of permutations\")\n",
    "plotter.show()\n",
    "\n",
    "distribution = list(np.bincount(results[3]))\n",
    "plotter.bar([distribution.index(x) for x in distribution],distribution,width=15)\n",
    "plotter.xlabel(\"# of comparisons.\")\n",
    "plotter.ylabel(\"# of permutations\")\n",
    "plotter.title(\"Distribution of the number of comparisons\\n along a sample of permutations\")\n",
    "plotter.show()\n",
    "\n",
    "distribution = list(np.bincount(results[5]))\n",
    "plotter.bar([distribution.index(x) for x in distribution],distribution,width=15)\n",
    "plotter.xlabel(\"# of swaps.\")\n",
    "plotter.ylabel(\"# of permutations\")\n",
    "plotter.title(\"Distribution of the number of swaps along \\n a sample of permutations\")\n",
    "plotter.show()\n",
    "\n",
    "print(\"AVG instructions count {0} | AVG comparisons count {1} | AVG Instructions count {2}\".format \n",
    "      (results[0], results[2], results[4]))\n"
   ]
  },
  {
   "cell_type": "code",
   "execution_count": null,
   "metadata": {},
   "outputs": [],
   "source": []
  },
  {
   "cell_type": "code",
   "execution_count": null,
   "metadata": {},
   "outputs": [],
   "source": []
  },
  {
   "cell_type": "code",
   "execution_count": null,
   "metadata": {},
   "outputs": [],
   "source": []
  },
  {
   "cell_type": "code",
   "execution_count": null,
   "metadata": {},
   "outputs": [],
   "source": []
  }
 ],
 "metadata": {
  "kernelspec": {
   "display_name": "Python 3",
   "language": "python",
   "name": "python3"
  },
  "language_info": {
   "codemirror_mode": {
    "name": "ipython",
    "version": 3
   },
   "file_extension": ".py",
   "mimetype": "text/x-python",
   "name": "python",
   "nbconvert_exporter": "python",
   "pygments_lexer": "ipython3",
   "version": "3.6.4"
  }
 },
 "nbformat": 4,
 "nbformat_minor": 2
}
