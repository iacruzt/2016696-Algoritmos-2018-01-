{
 "cells": [
  {
   "cell_type": "markdown",
   "metadata": {},
   "source": [
    "# The following snippet of code will show two things: First, the execution time of two algorithms designed to (and tested on) the computation of the nth term of the Fibonacci's series, and second, the tremendous performance difference between the two approaches, one of which is iterative while the other one is recursive. "
   ]
  },
  {
   "cell_type": "code",
   "execution_count": 3,
   "metadata": {},
   "outputs": [
    {
     "data": {
      "image/png": "[encoded data removed]",
      "text/plain": [
       "<Figure size 432x288 with 1 Axes>"
      ]
     },
     "metadata": {},
     "output_type": "display_data"
    },
    {
     "data": {
      "text/plain": [
       "\"\\nplotter.plot( list(range(1500)), recurssionResults, 'k+' )\\nplotter.xlabel('FIBONACCI SERIES TERM INDEX')\\nplotter.ylabel('TIME SPENT IN THE'S CALCULATION \\n(SECONDS)')\\nplotter.title('RECURSIVE FIBONACCI TIME PERFORMANCE')\\nplotter.show()\\n\""
      ]
     },
     "execution_count": 3,
     "metadata": {},
     "output_type": "execute_result"
    }
   ],
   "source": [
    "import timeit\n",
    "%matplotlib inline\n",
    "import matplotlib.pyplot as plotter \n",
    "\n",
    "# RECURSIVE AND ITERATIVE FIBONACCI.\n",
    "# Up next you'll find a couple of functions to compute a number from the Fibonacci \n",
    "# sequence both iteratively and recursively. I've also created a snippet of code\n",
    "# to compare 'em both as for time performance respects. \n",
    "\n",
    "# FUNCTIONS:\n",
    "def recursiveFibonacci( index ):\n",
    "    if index > 1:\n",
    "        return recursiveFibonacci( index - 1 ) + \\\n",
    "                    recursiveFibonacci( index - 2 )\n",
    "    elif index == 1:\n",
    "        return 1\n",
    "    else: \n",
    "        return 0\n",
    "\n",
    "def iterativeFibonacci( index ):\n",
    "    former = 0\n",
    "    latter = 1\n",
    "    for i in range( index - 1 ):\n",
    "        current = former + latter\n",
    "        former = latter\n",
    "        latter = current\n",
    "    return latter\n",
    "\n",
    "# TIME COMPARISON:\n",
    "recursiveSetup = '''\n",
    "def recursiveFibonacci( index ):\n",
    "    if index > 1:\n",
    "        return recursiveFibonacci( index - 1 ) + \\\n",
    "                    recursiveFibonacci( index - 2 )\n",
    "    elif index == 1:\n",
    "        return 1\n",
    "    else: \n",
    "        return 0\n",
    "'''\n",
    "iterativeSetup = '''\n",
    "def iterativeFibonacci( index ):\n",
    "    former = 0\n",
    "    latter = 1\n",
    "    for i in range( index - 1 ):\n",
    "        current = former + latter\n",
    "        former = latter\n",
    "        latter = current\n",
    "    return latter\n",
    "'''\n",
    "\n",
    "# THE FOLLOWING COUPLE OF LISTS CONTAIN THE TIME IT TOOK TO COMPUTE THE Nth TERM OF THE FIBO.\n",
    "# SERIES FOR ALL N BELONGING TO [0,25]. EACH INDEX IS PAIRED TO A N-VALUE.\n",
    "# FOR INSTANCE, recurssionResults[8] = THE TIME IT TOOK THE RECURSSIVE ALG. TO COMPUTE THE 8th TERM.\n",
    "\n",
    "iterationResults = [ timeit.timeit('iterativeFibonacci( {0} )'.format( i ), \\\n",
    "                                    setup=iterativeSetup, \\\n",
    "                                    number=50) / 50 \\\n",
    "                      for i in range( 1500 ) ]\n",
    "\n",
    "# The following would compute the recursive implementation's performance.\n",
    "'''\n",
    "recurssionResults = [ timeit.timeit('recursiveFibonacci( {0} )'.format( i ), \\\n",
    "                                    setup=recursiveSetup, \\\n",
    "                                    number=50) / 50 \\\n",
    "                      for i in range( 1500 ) ] \n",
    "'''\n",
    "\n",
    "plotter.plot( list(range(1500)), iterationResults, 'k+' )\n",
    "plotter.xlabel('FIBONACCI SERIES TERM INDEX')\n",
    "plotter.ylabel('TIME SPENT IN TERM\\'S CALCULATION \\n(SECONDS)')\n",
    "plotter.title('ITERATIVE FIBONACCI TIME PERFORMANCE')\n",
    "plotter.show()\n",
    "\n",
    "# The following would plot the recursive implementation's performance.\n",
    "'''\n",
    "plotter.plot( list(range(1500)), recurssionResults, 'k+' )\n",
    "plotter.xlabel('FIBONACCI SERIES TERM INDEX')\n",
    "plotter.ylabel('TIME SPENT IN THE\\'S CALCULATION \\n(SECONDS)')\n",
    "plotter.title('RECURSIVE FIBONACCI TIME PERFORMANCE')\n",
    "plotter.show()\n",
    "'''"
   ]
  },
  {
   "cell_type": "code",
   "execution_count": null,
   "metadata": {},
   "outputs": [],
   "source": []
  }
 ],
 "metadata": {
  "kernelspec": {
   "display_name": "Python 3",
   "language": "python",
   "name": "python3"
  },
  "language_info": {
   "codemirror_mode": {
    "name": "ipython",
    "version": 3
   },
   "file_extension": ".py",
   "mimetype": "text/x-python",
   "name": "python",
   "nbconvert_exporter": "python",
   "pygments_lexer": "ipython3",
   "version": "3.6.4"
  }
 },
 "nbformat": 4,
 "nbformat_minor": 2
}
